{
 "cells": [
  {
   "cell_type": "code",
   "execution_count": 1,
   "id": "86ad6ef2",
   "metadata": {},
   "outputs": [],
   "source": [
    "import boto3\n",
    "from botocore.config import Config"
   ]
  },
  {
   "cell_type": "code",
   "execution_count": 12,
   "id": "69f09dd9",
   "metadata": {},
   "outputs": [
    {
     "data": {
      "text/html": [
       "<div>\n",
       "<style scoped>\n",
       "    .dataframe tbody tr th:only-of-type {\n",
       "        vertical-align: middle;\n",
       "    }\n",
       "\n",
       "    .dataframe tbody tr th {\n",
       "        vertical-align: top;\n",
       "    }\n",
       "\n",
       "    .dataframe thead th {\n",
       "        text-align: right;\n",
       "    }\n",
       "</style>\n",
       "<table border=\"1\" class=\"dataframe\">\n",
       "  <thead>\n",
       "    <tr style=\"text-align: right;\">\n",
       "      <th></th>\n",
       "      <th>Map</th>\n",
       "      <th>IP_Address</th>\n",
       "      <th>UserReq</th>\n",
       "    </tr>\n",
       "  </thead>\n",
       "  <tbody>\n",
       "    <tr>\n",
       "      <th>0</th>\n",
       "      <td>{'longitude': 123.456, 'latitude': 78.901}</td>\n",
       "      <td>192.168.0.1</td>\n",
       "      <td>1</td>\n",
       "    </tr>\n",
       "    <tr>\n",
       "      <th>1</th>\n",
       "      <td>{'Longitude': 0, 'Latitude': 0}</td>\n",
       "      <td></td>\n",
       "      <td>01</td>\n",
       "    </tr>\n",
       "  </tbody>\n",
       "</table>\n",
       "</div>"
      ],
      "text/plain": [
       "                                          Map   IP_Address UserReq\n",
       "0  {'longitude': 123.456, 'latitude': 78.901}  192.168.0.1       1\n",
       "1             {'Longitude': 0, 'Latitude': 0}                   01"
      ]
     },
     "execution_count": 12,
     "metadata": {},
     "output_type": "execute_result"
    }
   ],
   "source": [
    "import configparser\n",
    "import pandas as pd\n",
    "\n",
    "# Read the AWS credentials from the credentials file\n",
    "config = configparser.ConfigParser()\n",
    "config.read('C:/Users/patel/.aws/credentials')\n",
    "\n",
    "aws_access_key_id = config.get('default', 'aws_access_key_id')\n",
    "aws_secret_access_key = config.get('default', 'aws_secret_access_key')\n",
    "\n",
    "# Connect to DynamoDB using the retrieved credentials\n",
    "dynamodb = boto3.resource('dynamodb',\n",
    "                          region_name='us-east-1',\n",
    "                          aws_access_key_id=aws_access_key_id,\n",
    "                          aws_secret_access_key=aws_secret_access_key)\n",
    "\n",
    "# Specify the name of the table\n",
    "table_name = 'User_Requests'\n",
    "\n",
    "# Get a reference to the table\n",
    "table = dynamodb.Table(table_name)\n",
    "\n",
    "# Data retrieval - Get all records\n",
    "response = table.scan()\n",
    "items = response['Items']\n",
    "\n",
    "# Convert records to dataframe\n",
    "df = pd.DataFrame(items)\n",
    "df\n"
   ]
  },
  {
   "cell_type": "code",
   "execution_count": 3,
   "id": "c8de0fd5",
   "metadata": {},
   "outputs": [],
   "source": [
    "def insert_item(table_name, item, region_name):\n",
    "    dynamodb = boto3.resource('dynamodb', region_name=region_name)\n",
    "    table = dynamodb.Table(table_name)\n",
    "    response = table.put_item(Item=item)\n",
    "\n",
    "    if response['ResponseMetadata']['HTTPStatusCode'] == 200:\n",
    "        print('Record inserted successfully.')\n",
    "    else:\n",
    "        print('Failed to insert record.')\n"
   ]
  },
  {
   "cell_type": "code",
   "execution_count": 10,
   "id": "13cd2184",
   "metadata": {},
   "outputs": [],
   "source": [
    "from decimal import Decimal\n",
    "\n",
    "# Example item\n",
    "item = {\n",
    "    'UserReq': '1',\n",
    "    'IP_Address': '192.168.0.1',\n",
    "    'Map': {\n",
    "        'longitude': Decimal('123.456'),\n",
    "        'latitude': Decimal('78.901')\n",
    "    },\n",
    "    }\n",
    "\n"
   ]
  },
  {
   "cell_type": "code",
   "execution_count": 11,
   "id": "8e620445",
   "metadata": {
    "scrolled": true
   },
   "outputs": [
    {
     "name": "stdout",
     "output_type": "stream",
     "text": [
      "Record inserted successfully.\n"
     ]
    }
   ],
   "source": [
    "insert_item('User_Requests', item, 'us-east-1')"
   ]
  },
  {
   "cell_type": "code",
   "execution_count": null,
   "id": "b1fbd158",
   "metadata": {},
   "outputs": [],
   "source": [
    "import configparser\n",
    "import pandas as pd\n",
    "\n",
    "# Read the AWS credentials from the credentials file\n",
    "config = configparser.ConfigParser()\n",
    "config.read('C:/Users/patel/.aws/credentials')\n",
    "\n",
    "aws_access_key_id = config.get('default', 'aws_access_key_id')\n",
    "aws_secret_access_key = config.get('default', 'aws_secret_access_key')\n",
    "\n",
    "# Connect to DynamoDB using the retrieved credentials\n",
    "dynamodb = boto3.resource('dynamodb',\n",
    "                          region_name='us-east-1',\n",
    "                          aws_access_key_id=aws_access_key_id,\n",
    "                          aws_secret_access_key=aws_secret_access_key)\n",
    "\n",
    "# Specify the name of the table\n",
    "table_name = 'User_Requests'\n",
    "\n",
    "# Get a reference to the table\n",
    "table = dynamodb.Table(table_name)\n",
    "\n",
    "# Data retrieval - Get all records\n",
    "response = table.scan()\n",
    "items = response['Items']\n",
    "\n",
    "# Convert records to dataframe\n",
    "df = pd.DataFrame(items)\n",
    "df\n",
    "\n",
    "\n",
    "def insert_item(table_name, item, region_name):\n",
    "    dynamodb = boto3.resource('dynamodb', region_name=region_name)\n",
    "    table = dynamodb.Table(table_name)\n",
    "    response = table.put_item(Item=item)\n",
    "\n",
    "    if response['ResponseMetadata']['HTTPStatusCode'] == 200:\n",
    "        print('Record inserted successfully.')\n",
    "    else:\n",
    "        print('Failed to insert record.')\n",
    "        \n",
    "        \n",
    "from decimal import Decimal\n",
    "\n",
    "# Example item\n",
    "item = {\n",
    "    'UserReq': '1',\n",
    "    'IP_Address': '192.168.0.1',\n",
    "    'Map': {\n",
    "        'longitude': Decimal('123.456'),\n",
    "        'latitude': Decimal('78.901')\n",
    "    },\n",
    "    }\n",
    "\n",
    "\n",
    "insert_item('User_Requests', item, 'us-east-1')\n",
    "\n",
    "\n"
   ]
  }
 ],
 "metadata": {
  "kernelspec": {
   "display_name": "Python 3 (ipykernel)",
   "language": "python",
   "name": "python3"
  },
  "language_info": {
   "codemirror_mode": {
    "name": "ipython",
    "version": 3
   },
   "file_extension": ".py",
   "mimetype": "text/x-python",
   "name": "python",
   "nbconvert_exporter": "python",
   "pygments_lexer": "ipython3",
   "version": "3.9.16"
  }
 },
 "nbformat": 4,
 "nbformat_minor": 5
}
